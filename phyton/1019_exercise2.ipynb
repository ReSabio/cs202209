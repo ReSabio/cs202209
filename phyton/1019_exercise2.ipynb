{
  "nbformat": 4,
  "nbformat_minor": 0,
  "metadata": {
    "colab": {
      "provenance": [],
      "collapsed_sections": []
    },
    "kernelspec": {
      "name": "python3",
      "display_name": "Python 3"
    },
    "language_info": {
      "name": "python"
    }
  },
  "cells": [
    {
      "cell_type": "markdown",
      "source": [
        "# **1019 4110E231**\n",
        "\n",
        "For loops discussion and Exercise"
      ],
      "metadata": {
        "id": "ojlzBs1EuoPy"
      }
    },
    {
      "cell_type": "markdown",
      "source": [
        "# ***For Loops***"
      ],
      "metadata": {
        "id": "L7C5KrWeuwRM"
      }
    },
    {
      "cell_type": "markdown",
      "source": [
        "**Example 1:** Print each fruit in a fruit list:"
      ],
      "metadata": {
        "id": "sl6Wog_0u0B3"
      }
    },
    {
      "cell_type": "code",
      "source": [
        "fruits = [\"avocado\", \"blueberry\", \"cantaloupe\"]\n",
        "for x in fruits:\n",
        "  print(x)"
      ],
      "metadata": {
        "colab": {
          "base_uri": "https://localhost:8080/"
        },
        "id": "vCX5xwhwvA24",
        "outputId": "0394abe8-d1d8-44a9-a82c-defc95eda049"
      },
      "execution_count": null,
      "outputs": [
        {
          "output_type": "stream",
          "name": "stdout",
          "text": [
            "apple\n",
            "banana\n",
            "cherry\n"
          ]
        }
      ]
    },
    {
      "cell_type": "markdown",
      "source": [
        "**Example 2:** Loop through the letters in the word \"cantaloupe\":"
      ],
      "metadata": {
        "id": "MpPYJa4_vLJr"
      }
    },
    {
      "cell_type": "code",
      "source": [
        "for x in \"cantaloupe\":\n",
        "  print(x)"
      ],
      "metadata": {
        "colab": {
          "base_uri": "https://localhost:8080/"
        },
        "id": "lNQb-oqdvYEs",
        "outputId": "826528d4-4ecc-48ab-afdf-fa583c82509d"
      },
      "execution_count": null,
      "outputs": [
        {
          "output_type": "stream",
          "name": "stdout",
          "text": [
            "c\n",
            "a\n",
            "n\n",
            "t\n",
            "a\n",
            "l\n",
            "o\n",
            "u\n",
            "p\n",
            "e\n"
          ]
        }
      ]
    },
    {
      "cell_type": "markdown",
      "source": [
        "**Example 3:** Exit the loop when x is \"banana\":"
      ],
      "metadata": {
        "id": "W9m-vxpkvilQ"
      }
    },
    {
      "cell_type": "code",
      "source": [
        "fruits = [\"avocado\", \"blueberry\", \"cantaloupe\"]\n",
        "for x in fruits:\n",
        "  print(x)\n",
        "  if x == \"blueberry\":\n",
        "    break"
      ],
      "metadata": {
        "colab": {
          "base_uri": "https://localhost:8080/"
        },
        "id": "DuY_hVVwvm3t",
        "outputId": "cb2e0452-cbf9-43a0-ca36-935ad17b90c4"
      },
      "execution_count": null,
      "outputs": [
        {
          "output_type": "stream",
          "name": "stdout",
          "text": [
            "avocado\n",
            "blueberry\n"
          ]
        }
      ]
    },
    {
      "cell_type": "code",
      "source": [
        "fruits = [\"avocado\", \"blueberry\", \"cantaloupe\"]\n",
        "for x in fruits:\n",
        "  if x == \"blueberry\":\n",
        "    break\n",
        "  print(x)"
      ],
      "metadata": {
        "colab": {
          "base_uri": "https://localhost:8080/"
        },
        "id": "pbES5ggF6hUN",
        "outputId": "c1c24052-5195-4742-f374-ae60b3f96a22"
      },
      "execution_count": null,
      "outputs": [
        {
          "output_type": "stream",
          "name": "stdout",
          "text": [
            "avocado\n"
          ]
        }
      ]
    },
    {
      "cell_type": "markdown",
      "source": [
        "# ***The continue Statement***"
      ],
      "metadata": {
        "id": "NVnoDmFJ6pIq"
      }
    },
    {
      "cell_type": "markdown",
      "source": [
        "**Example 4:** Do not print blueberry:"
      ],
      "metadata": {
        "id": "hOrfUNlZvvWm"
      }
    },
    {
      "cell_type": "code",
      "source": [
        "fruits = [\"avocado\", \"blueberry\", \"cantaloupe\"]\n",
        "for x in fruits:\n",
        "  if x == \"blueberry\":\n",
        "    continue\n",
        "  print(x)"
      ],
      "metadata": {
        "colab": {
          "base_uri": "https://localhost:8080/"
        },
        "id": "dcMzceaf6wEj",
        "outputId": "3e29719f-f9b8-44fe-e09e-4e14a826c9f5"
      },
      "execution_count": null,
      "outputs": [
        {
          "output_type": "stream",
          "name": "stdout",
          "text": [
            "avocado\n",
            "cantaloupe\n"
          ]
        }
      ]
    },
    {
      "cell_type": "markdown",
      "source": [
        "# ***The range() Function***"
      ],
      "metadata": {
        "id": "Njp36NAS7DRa"
      }
    },
    {
      "cell_type": "markdown",
      "source": [
        "**Example 5:** Using the range() function:"
      ],
      "metadata": {
        "id": "ZXDdlx4ewavp"
      }
    },
    {
      "cell_type": "code",
      "source": [
        "for x in range(8):\n",
        "  print(x)"
      ],
      "metadata": {
        "colab": {
          "base_uri": "https://localhost:8080/"
        },
        "id": "uDgi1mdMwgNp",
        "outputId": "8b4ac003-b054-4778-d038-6b69fa5caebc"
      },
      "execution_count": null,
      "outputs": [
        {
          "output_type": "stream",
          "name": "stdout",
          "text": [
            "0\n",
            "1\n",
            "2\n",
            "3\n",
            "4\n",
            "5\n",
            "6\n",
            "7\n"
          ]
        }
      ]
    },
    {
      "cell_type": "markdown",
      "source": [
        "Using the start parameter:"
      ],
      "metadata": {
        "id": "5hz0e2iV7mQS"
      }
    },
    {
      "cell_type": "code",
      "source": [
        "for x in range(4, 8):\n",
        "  print(x)"
      ],
      "metadata": {
        "colab": {
          "base_uri": "https://localhost:8080/"
        },
        "id": "1ZWXs-tc7Ppb",
        "outputId": "12573bc2-c7c5-4e40-eb9e-60abf48b9760"
      },
      "execution_count": null,
      "outputs": [
        {
          "output_type": "stream",
          "name": "stdout",
          "text": [
            "4\n",
            "5\n",
            "6\n",
            "7\n"
          ]
        }
      ]
    },
    {
      "cell_type": "markdown",
      "source": [
        "Increment the sequence with 3 (default is 1):"
      ],
      "metadata": {
        "id": "P5xkVhQN7pY3"
      }
    },
    {
      "cell_type": "code",
      "source": [
        "for x in range(2, 21, 3):\n",
        "  print(x)"
      ],
      "metadata": {
        "colab": {
          "base_uri": "https://localhost:8080/"
        },
        "id": "pTcnagbr7XKC",
        "outputId": "5a743400-e336-4cee-8f1b-0d61b68dfac5"
      },
      "execution_count": null,
      "outputs": [
        {
          "output_type": "stream",
          "name": "stdout",
          "text": [
            "2\n",
            "5\n",
            "8\n",
            "11\n",
            "14\n",
            "17\n",
            "20\n"
          ]
        }
      ]
    },
    {
      "cell_type": "markdown",
      "source": [
        "# ***Else in For Loop***"
      ],
      "metadata": {
        "id": "wJEGrkCH7yif"
      }
    },
    {
      "cell_type": "markdown",
      "source": [
        "**Example 6:** Print all numbers from 0 to 5, and print a message when the loop has ended:\n"
      ],
      "metadata": {
        "id": "lRKIgReYwzm8"
      }
    },
    {
      "cell_type": "code",
      "source": [
        "for x in range(8):\n",
        "  print(x)\n",
        "else:\n",
        "  print(\"Finally finished!\")"
      ],
      "metadata": {
        "colab": {
          "base_uri": "https://localhost:8080/"
        },
        "id": "8087LM9dw5qU",
        "outputId": "9889f09e-0a89-4ed8-bb07-7e55d354eda6"
      },
      "execution_count": null,
      "outputs": [
        {
          "output_type": "stream",
          "name": "stdout",
          "text": [
            "0\n",
            "1\n",
            "2\n",
            "3\n",
            "4\n",
            "5\n",
            "6\n",
            "7\n",
            "Finally finished!\n"
          ]
        }
      ]
    },
    {
      "cell_type": "markdown",
      "source": [
        "Break the loop when x is 3, and see what happens with the else block:"
      ],
      "metadata": {
        "id": "s4y-JlIU8EKD"
      }
    },
    {
      "cell_type": "code",
      "source": [
        "for x in range(8):\n",
        "  if x == 3: break\n",
        "  print(x)\n",
        "else:\n",
        "  print(\"Finally finished!\")"
      ],
      "metadata": {
        "colab": {
          "base_uri": "https://localhost:8080/"
        },
        "id": "RUcpp5X38Dic",
        "outputId": "5bc75c86-5696-45f1-c9a9-49d28486f222"
      },
      "execution_count": null,
      "outputs": [
        {
          "output_type": "stream",
          "name": "stdout",
          "text": [
            "0\n",
            "1\n",
            "2\n"
          ]
        }
      ]
    },
    {
      "cell_type": "markdown",
      "source": [
        "**Example 7:** This example misses indentations to be correct.\n",
        "\n",
        "Insert the missing indentation to make the code correct:"
      ],
      "metadata": {
        "id": "3NG7Zl1VxFdt"
      }
    },
    {
      "cell_type": "code",
      "source": [
        "if 5 > 2:\n",
        "print(\"Five is greater than two!\") "
      ],
      "metadata": {
        "id": "MmFaYLTyxKU9"
      },
      "execution_count": null,
      "outputs": []
    },
    {
      "cell_type": "markdown",
      "source": [
        "***CORRECT ⬇***"
      ],
      "metadata": {
        "id": "dGi1Yaa7xO6d"
      }
    },
    {
      "cell_type": "code",
      "source": [
        "if 5 > 2:\n",
        "  print(\"Five is greater than two!\")"
      ],
      "metadata": {
        "id": "tGbSjiPcxVz0"
      },
      "execution_count": null,
      "outputs": []
    },
    {
      "cell_type": "markdown",
      "source": [
        "**Example 8:** Use the correct short hand syntax to put the following statement on one line:"
      ],
      "metadata": {
        "id": "TFkbmhp8xXVl"
      }
    },
    {
      "cell_type": "code",
      "source": [
        "if 5 > 2:\n",
        "print(\"Five is greater than two!\")"
      ],
      "metadata": {
        "id": "18hlYwVBxhql"
      },
      "execution_count": null,
      "outputs": []
    },
    {
      "cell_type": "markdown",
      "source": [
        "***CORRECT ⬇***"
      ],
      "metadata": {
        "id": "eV2yDwmCxlzF"
      }
    },
    {
      "cell_type": "code",
      "source": [
        "if 5 > 2: print(\"Five is greater than two!\")"
      ],
      "metadata": {
        "colab": {
          "base_uri": "https://localhost:8080/"
        },
        "id": "DU-JimJ7xnGP",
        "outputId": "83d0361e-e935-4e79-ac46-caa461086fbc"
      },
      "execution_count": null,
      "outputs": [
        {
          "output_type": "stream",
          "name": "stdout",
          "text": [
            "Five is greater than two!\n"
          ]
        }
      ]
    },
    {
      "cell_type": "markdown",
      "source": [
        "**Example 9:** Use the correct short hand syntax to write the following conditional expression in one line:"
      ],
      "metadata": {
        "id": "wiM2b4b6x6Wc"
      }
    },
    {
      "cell_type": "code",
      "source": [
        "if 5 > 2:\n",
        "  print(\"Yes\")\n",
        "else\n",
        "  print(\"No\")"
      ],
      "metadata": {
        "id": "LlBtaBUcyB0F"
      },
      "execution_count": null,
      "outputs": []
    },
    {
      "cell_type": "markdown",
      "source": [
        "***CORRECT ⬇***"
      ],
      "metadata": {
        "id": "v_fZhYtbyDk1"
      }
    },
    {
      "cell_type": "code",
      "source": [
        "print(\"Yes\") if 5 > 2 else print(\"No\")"
      ],
      "metadata": {
        "colab": {
          "base_uri": "https://localhost:8080/"
        },
        "id": "FWh2yJZWyDWe",
        "outputId": "a5f74c29-c46b-4ed1-a9b4-879cc2831721"
      },
      "execution_count": null,
      "outputs": [
        {
          "output_type": "stream",
          "name": "stdout",
          "text": [
            "Yes\n"
          ]
        }
      ]
    },
    {
      "cell_type": "markdown",
      "source": [
        "# ***Nested Loops***"
      ],
      "metadata": {
        "id": "Zk_dkQ3KoTRd"
      }
    },
    {
      "cell_type": "markdown",
      "source": [
        "**Example 10:** Print each adjective for every fruit:"
      ],
      "metadata": {
        "id": "JhwGuOb_oZSc"
      }
    },
    {
      "cell_type": "code",
      "source": [
        "adj = [\"green\", \"small\", \"sweet\"]\n",
        "fruits = [\"avocado\", \"blueberry\", \"cherry\"]\n",
        "\n",
        "for x in adj:\n",
        "  for y in fruits:\n",
        "    print(x, y)"
      ],
      "metadata": {
        "colab": {
          "base_uri": "https://localhost:8080/"
        },
        "id": "u6E_eEYZoddj",
        "outputId": "92f0a26d-1b6a-4bcc-e4fd-1e00811cff4f"
      },
      "execution_count": 1,
      "outputs": [
        {
          "output_type": "stream",
          "name": "stdout",
          "text": [
            "green avocado\n",
            "green blueberry\n",
            "green cherry\n",
            "small avocado\n",
            "small blueberry\n",
            "small cherry\n",
            "sweet avocado\n",
            "sweet blueberry\n",
            "sweet cherry\n"
          ]
        }
      ]
    },
    {
      "cell_type": "markdown",
      "source": [
        "# ***The pass Statement***"
      ],
      "metadata": {
        "id": "lTdW3xkaotT1"
      }
    },
    {
      "cell_type": "markdown",
      "source": [
        "**Example 11:** "
      ],
      "metadata": {
        "id": "IKc6_w3Fou5V"
      }
    },
    {
      "cell_type": "code",
      "source": [
        "for x in [0, 1, 2]:\n",
        "  pass"
      ],
      "metadata": {
        "id": "wsSl4zF5ozqD"
      },
      "execution_count": 5,
      "outputs": []
    },
    {
      "cell_type": "markdown",
      "source": [
        "# ***`EXERCISES`***"
      ],
      "metadata": {
        "id": "3qI0sz6JpARl"
      }
    },
    {
      "cell_type": "markdown",
      "source": [
        "**Exercise 1:** Loop through the items in the fruits list."
      ],
      "metadata": {
        "id": "v_lu_zNmpJpO"
      }
    },
    {
      "cell_type": "code",
      "source": [
        "fruits = [\"avocado\", \"blueberry\", \"cantaloupe\"]\n",
        "for x in fruits:\n",
        "  print(x)"
      ],
      "metadata": {
        "colab": {
          "base_uri": "https://localhost:8080/"
        },
        "id": "wAuNXE3VpMud",
        "outputId": "1a18dba4-7c22-4f34-e9e0-e221e96420eb"
      },
      "execution_count": 6,
      "outputs": [
        {
          "output_type": "stream",
          "name": "stdout",
          "text": [
            "avocado\n",
            "blueberry\n",
            "cantaloupe\n"
          ]
        }
      ]
    },
    {
      "cell_type": "markdown",
      "source": [
        "**Exercise 2:** In the loop, when the item value is \"blueberry\", jump directly to the next item."
      ],
      "metadata": {
        "id": "jTdpNVGzpZZf"
      }
    },
    {
      "cell_type": "code",
      "source": [
        "fruits = [\"avocado\", \"blueberry\", \"cantaloupe\"]\n",
        "for x in fruits:\n",
        "  if x == \"blueberry\":    \n",
        "    continue\n",
        "  print(x)"
      ],
      "metadata": {
        "colab": {
          "base_uri": "https://localhost:8080/"
        },
        "id": "heVEdx7mpb30",
        "outputId": "275b8bf5-a9b5-45e2-8860-bff1aa4548a8"
      },
      "execution_count": 7,
      "outputs": [
        {
          "output_type": "stream",
          "name": "stdout",
          "text": [
            "avocado\n",
            "cantaloupe\n"
          ]
        }
      ]
    },
    {
      "cell_type": "markdown",
      "source": [
        "**Exercise 3:** Use the range function to loop through a code set 6 times."
      ],
      "metadata": {
        "id": "6UabFgQepp_E"
      }
    },
    {
      "cell_type": "code",
      "source": [
        "for x in range(6):\n",
        "  print(x)"
      ],
      "metadata": {
        "colab": {
          "base_uri": "https://localhost:8080/"
        },
        "id": "omyIKA-wpuMt",
        "outputId": "899bbe14-81cc-4d9a-efb1-8bd372ef0f8f"
      },
      "execution_count": 8,
      "outputs": [
        {
          "output_type": "stream",
          "name": "stdout",
          "text": [
            "0\n",
            "1\n",
            "2\n",
            "3\n",
            "4\n",
            "5\n"
          ]
        }
      ]
    },
    {
      "cell_type": "markdown",
      "source": [
        "**Exercise 4:** Exit the loop when x is \"blueberry\".\n",
        "\n"
      ],
      "metadata": {
        "id": "r8t5lntip2Q9"
      }
    },
    {
      "cell_type": "code",
      "source": [
        "fruits = [\"avocado\", \"blueberry\", \"cantaloupe\"]\n",
        "for x in fruits:\n",
        "  if x == \"blueberry\":    \n",
        "    break\n",
        "  print(x)"
      ],
      "metadata": {
        "colab": {
          "base_uri": "https://localhost:8080/"
        },
        "id": "VpQ2xe93p4hk",
        "outputId": "bd43198f-cf58-43cc-9ce6-622f4b950e03"
      },
      "execution_count": 11,
      "outputs": [
        {
          "output_type": "stream",
          "name": "stdout",
          "text": [
            "avocado\n"
          ]
        }
      ]
    }
  ]
}