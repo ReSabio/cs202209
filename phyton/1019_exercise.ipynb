{
  "nbformat": 4,
  "nbformat_minor": 0,
  "metadata": {
    "colab": {
      "provenance": [],
      "collapsed_sections": []
    },
    "kernelspec": {
      "name": "python3",
      "display_name": "Python 3"
    },
    "language_info": {
      "name": "python"
    }
  },
  "cells": [
    {
      "cell_type": "markdown",
      "source": [
        "# **1019 4110E231**\n"
      ],
      "metadata": {
        "id": "ojlzBs1EuoPy"
      }
    },
    {
      "cell_type": "markdown",
      "source": [
        "***Python Condition and If Statement***"
      ],
      "metadata": {
        "id": "L7C5KrWeuwRM"
      }
    },
    {
      "cell_type": "markdown",
      "source": [
        "**Exercise 1:** Print \"Hello World\" if a is greater than b."
      ],
      "metadata": {
        "id": "sl6Wog_0u0B3"
      }
    },
    {
      "cell_type": "code",
      "source": [
        "a = 50\n",
        "b = 10\n",
        "if a > b:\n",
        "\n",
        "  print(\"Hello World\")"
      ],
      "metadata": {
        "colab": {
          "base_uri": "https://localhost:8080/"
        },
        "id": "vCX5xwhwvA24",
        "outputId": "5997faf4-a2f5-40dd-9164-e03120ee0974"
      },
      "execution_count": 1,
      "outputs": [
        {
          "output_type": "stream",
          "name": "stdout",
          "text": [
            "Hello World\n"
          ]
        }
      ]
    },
    {
      "cell_type": "markdown",
      "source": [
        "**Exercise 2:** Print \"Hello World\" if a is not equal to b."
      ],
      "metadata": {
        "id": "MpPYJa4_vLJr"
      }
    },
    {
      "cell_type": "code",
      "source": [
        "a = 50\n",
        "b = 10\n",
        "if a != b :\n",
        "\n",
        "  print(\"Hello World\")"
      ],
      "metadata": {
        "colab": {
          "base_uri": "https://localhost:8080/"
        },
        "id": "lNQb-oqdvYEs",
        "outputId": "aab9b344-5ef5-4344-8371-cebf87379ac8"
      },
      "execution_count": 2,
      "outputs": [
        {
          "output_type": "stream",
          "name": "stdout",
          "text": [
            "Hello World\n"
          ]
        }
      ]
    },
    {
      "cell_type": "markdown",
      "source": [
        "**Exercise 3:** Print \"Yes\" if a is equal to b, otherwise print \"No\"."
      ],
      "metadata": {
        "id": "W9m-vxpkvilQ"
      }
    },
    {
      "cell_type": "code",
      "source": [
        "a = 50\n",
        "b = 10\n",
        "if a == b :\n",
        "  print(\"Yes\")\n",
        "else:\n",
        "  print(\"No\")"
      ],
      "metadata": {
        "colab": {
          "base_uri": "https://localhost:8080/"
        },
        "id": "DuY_hVVwvm3t",
        "outputId": "4f6d4f44-b60f-4177-c48c-1d4e6f3ce4b2"
      },
      "execution_count": 3,
      "outputs": [
        {
          "output_type": "stream",
          "name": "stdout",
          "text": [
            "No\n"
          ]
        }
      ]
    },
    {
      "cell_type": "markdown",
      "source": [
        "**Exercise 4:** Print \"1\" if a is equal to b, print \"2\" if a is greater than b, otherwise print \"3\"."
      ],
      "metadata": {
        "id": "hOrfUNlZvvWm"
      }
    },
    {
      "cell_type": "code",
      "source": [
        "a = 50\n",
        "b = 10\n",
        "if a == b :\n",
        "   print(\"1\")\n",
        "\n",
        "elif a > b :\n",
        "  print(\"2\")\n",
        "\n",
        "else:\n",
        "  print(\"3\")"
      ],
      "metadata": {
        "colab": {
          "base_uri": "https://localhost:8080/"
        },
        "id": "DkncVX_Lv1tx",
        "outputId": "4ad36edf-52fe-4348-e8a6-0fdbcd21762e"
      },
      "execution_count": 4,
      "outputs": [
        {
          "output_type": "stream",
          "name": "stdout",
          "text": [
            "2\n"
          ]
        }
      ]
    },
    {
      "cell_type": "markdown",
      "source": [
        "**Exercise 5:** Print \"Hello\" if a is equal to b, and c is equal to d."
      ],
      "metadata": {
        "id": "ZXDdlx4ewavp"
      }
    },
    {
      "cell_type": "code",
      "source": [
        "a = 10\n",
        "b = 10\n",
        "c = 10\n",
        "d = 10 \n",
        "\n",
        "if a == b and c == d:\n",
        "  print(\"Hello\")"
      ],
      "metadata": {
        "colab": {
          "base_uri": "https://localhost:8080/"
        },
        "id": "uDgi1mdMwgNp",
        "outputId": "c6899fac-4324-4589-9f43-2a286abd74ee"
      },
      "execution_count": 7,
      "outputs": [
        {
          "output_type": "stream",
          "name": "stdout",
          "text": [
            "Hello\n"
          ]
        }
      ]
    },
    {
      "cell_type": "markdown",
      "source": [
        "**Excercise 6:** Print \"Hello\" if a is equal to b, or if c is equal to d.\n",
        "\n"
      ],
      "metadata": {
        "id": "lRKIgReYwzm8"
      }
    },
    {
      "cell_type": "code",
      "source": [
        "a = 10\n",
        "b = 10\n",
        "c = 10\n",
        "d = 10 \n",
        "\n",
        "if a == b or c == d:\n",
        "  print(\"Hello\")"
      ],
      "metadata": {
        "colab": {
          "base_uri": "https://localhost:8080/"
        },
        "id": "8087LM9dw5qU",
        "outputId": "7aa5e03d-1ffd-47a0-9784-4f30d8400a70"
      },
      "execution_count": 8,
      "outputs": [
        {
          "output_type": "stream",
          "name": "stdout",
          "text": [
            "Hello\n"
          ]
        }
      ]
    },
    {
      "cell_type": "markdown",
      "source": [
        "**Exercsie 7:** This example misses indentations to be correct.\n",
        "\n",
        "Insert the missing indentation to make the code correct:"
      ],
      "metadata": {
        "id": "3NG7Zl1VxFdt"
      }
    },
    {
      "cell_type": "code",
      "source": [
        "if 5 > 2:\n",
        "print(\"Five is greater than two!\") "
      ],
      "metadata": {
        "id": "MmFaYLTyxKU9"
      },
      "execution_count": null,
      "outputs": []
    },
    {
      "cell_type": "markdown",
      "source": [
        "***CORRECT ⬇***"
      ],
      "metadata": {
        "id": "dGi1Yaa7xO6d"
      }
    },
    {
      "cell_type": "code",
      "source": [
        "if 5 > 2:\n",
        "  print(\"Five is greater than two!\")"
      ],
      "metadata": {
        "id": "tGbSjiPcxVz0"
      },
      "execution_count": null,
      "outputs": []
    },
    {
      "cell_type": "markdown",
      "source": [
        "**Exercise 8:** Use the correct short hand syntax to put the following statement on one line:"
      ],
      "metadata": {
        "id": "TFkbmhp8xXVl"
      }
    },
    {
      "cell_type": "code",
      "source": [
        "if 5 > 2:\n",
        "print(\"Five is greater than two!\")"
      ],
      "metadata": {
        "id": "18hlYwVBxhql"
      },
      "execution_count": null,
      "outputs": []
    },
    {
      "cell_type": "markdown",
      "source": [
        "***CORRECT ⬇***"
      ],
      "metadata": {
        "id": "eV2yDwmCxlzF"
      }
    },
    {
      "cell_type": "code",
      "source": [
        "if 5 > 2: print(\"Five is greater than two!\")"
      ],
      "metadata": {
        "colab": {
          "base_uri": "https://localhost:8080/"
        },
        "id": "DU-JimJ7xnGP",
        "outputId": "83d0361e-e935-4e79-ac46-caa461086fbc"
      },
      "execution_count": 11,
      "outputs": [
        {
          "output_type": "stream",
          "name": "stdout",
          "text": [
            "Five is greater than two!\n"
          ]
        }
      ]
    },
    {
      "cell_type": "markdown",
      "source": [
        "**Exercise 9:** Use the correct short hand syntax to write the following conditional expression in one line:"
      ],
      "metadata": {
        "id": "wiM2b4b6x6Wc"
      }
    },
    {
      "cell_type": "code",
      "source": [
        "if 5 > 2:\n",
        "  print(\"Yes\")\n",
        "else\n",
        "  print(\"No\")"
      ],
      "metadata": {
        "id": "LlBtaBUcyB0F"
      },
      "execution_count": null,
      "outputs": []
    },
    {
      "cell_type": "markdown",
      "source": [
        "***CORRECT ⬇***"
      ],
      "metadata": {
        "id": "v_fZhYtbyDk1"
      }
    },
    {
      "cell_type": "code",
      "source": [
        "print(\"Yes\") if 5 > 2 else print(\"No\")"
      ],
      "metadata": {
        "colab": {
          "base_uri": "https://localhost:8080/"
        },
        "id": "FWh2yJZWyDWe",
        "outputId": "a5f74c29-c46b-4ed1-a9b4-879cc2831721"
      },
      "execution_count": 13,
      "outputs": [
        {
          "output_type": "stream",
          "name": "stdout",
          "text": [
            "Yes\n"
          ]
        }
      ]
    }
  ]
}