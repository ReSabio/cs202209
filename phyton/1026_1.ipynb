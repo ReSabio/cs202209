{
  "nbformat": 4,
  "nbformat_minor": 0,
  "metadata": {
    "colab": {
      "provenance": []
    },
    "kernelspec": {
      "name": "python3",
      "display_name": "Python 3"
    },
    "language_info": {
      "name": "python"
    }
  },
  "cells": [
    {
      "cell_type": "code",
      "execution_count": 9,
      "metadata": {
        "colab": {
          "base_uri": "https://localhost:8080/"
        },
        "id": "RgZhz30ruo7S",
        "outputId": "9903bec4-7806-4646-acfe-60f777d63785"
      },
      "outputs": [
        {
          "output_type": "stream",
          "name": "stdout",
          "text": [
            "Sum from 1 to 10 is 55\n",
            "Sum from 20 to 30 is 275\n",
            "Sum from 30 to 40 is 385\n"
          ]
        }
      ],
      "source": [
        "def sum(i1, i2):\n",
        "    result = 0\n",
        "    for i in range(i1, i2):\n",
        "        result += i\n",
        "    return result\n",
        "\n",
        "def main():\n",
        "    print(\"Sum from 1 to 10 is\", sum(1, 11)) \n",
        "    print(\"Sum from 20 to 30 is\", sum(20, 31))\n",
        "    print(\"Sum from 30 to 40 is\", sum(30, 41))\n",
        "\n",
        "main() # Call the main function"
      ]
    }
  ]
}