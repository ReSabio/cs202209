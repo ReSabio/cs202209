{
  "nbformat": 4,
  "nbformat_minor": 0,
  "metadata": {
    "colab": {
      "provenance": [],
      "collapsed_sections": []
    },
    "kernelspec": {
      "name": "python3",
      "display_name": "Python 3"
    },
    "language_info": {
      "name": "python"
    }
  },
  "cells": [
    {
      "cell_type": "markdown",
      "source": [
        "# 1019 QUIZ\n",
        "*4110E231*\n"
      ],
      "metadata": {
        "id": "hDvZ1Zdx_laZ"
      }
    },
    {
      "cell_type": "markdown",
      "source": [
        "**Exercise 1:**"
      ],
      "metadata": {
        "id": "Yy66Bkcy_rHZ"
      }
    },
    {
      "cell_type": "code",
      "execution_count": 7,
      "metadata": {
        "colab": {
          "base_uri": "https://localhost:8080/"
        },
        "id": "ervKNRtY8q0e",
        "outputId": "039f4ea8-e8dd-4351-a39c-f901a97d23dc"
      },
      "outputs": [
        {
          "output_type": "stream",
          "name": "stdout",
          "text": [
            "5328\n"
          ]
        }
      ],
      "source": [
        "initial = 111\n",
        "\n",
        "for x in range(2,7,2):\n",
        "  initial *= x  #initial = initial*x\n",
        "\n",
        "print(initial)"
      ]
    },
    {
      "cell_type": "markdown",
      "source": [
        "**Exercise 2:**"
      ],
      "metadata": {
        "id": "JNhd1La3_ij7"
      }
    },
    {
      "cell_type": "code",
      "source": [
        "initial = 111\n",
        "\n",
        "for x in range(2,7,2):\n",
        "  initial -= x  #initial = initial - x\n",
        "\n",
        "print(initial)"
      ],
      "metadata": {
        "colab": {
          "base_uri": "https://localhost:8080/"
        },
        "id": "lH3M1rxJ_g98",
        "outputId": "44c0c0fb-5c64-4073-f944-45b496b19db5"
      },
      "execution_count": 8,
      "outputs": [
        {
          "output_type": "stream",
          "name": "stdout",
          "text": [
            "99\n"
          ]
        }
      ]
    }
  ]
}