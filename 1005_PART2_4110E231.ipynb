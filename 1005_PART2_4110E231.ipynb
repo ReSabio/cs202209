{
  "nbformat": 4,
  "nbformat_minor": 0,
  "metadata": {
    "colab": {
      "provenance": [],
      "collapsed_sections": [],
      "authorship_tag": "ABX9TyMnEamVj6F0NsCeNNCf8myl",
      "include_colab_link": true
    },
    "kernelspec": {
      "name": "python3",
      "display_name": "Python 3"
    },
    "language_info": {
      "name": "python"
    }
  },
  "cells": [
    {
      "cell_type": "markdown",
      "metadata": {
        "id": "view-in-github",
        "colab_type": "text"
      },
      "source": [
        "<a href=\"https://colab.research.google.com/github/ReSabio/cs202209/blob/main/1005_PART2_4110E231.ipynb\" target=\"_parent\"><img src=\"https://colab.research.google.com/assets/colab-badge.svg\" alt=\"Open In Colab\"/></a>"
      ]
    },
    {
      "cell_type": "code",
      "execution_count": 1,
      "metadata": {
        "colab": {
          "base_uri": "https://localhost:8080/"
        },
        "id": "S1STavz-zPG4",
        "outputId": "c0fcaf12-f1c7-4496-d684-00100526ad05"
      },
      "outputs": [
        {
          "output_type": "stream",
          "name": "stdout",
          "text": [
            "Hello, go tigers!.\n"
          ]
        }
      ],
      "source": [
        "txt = \"hello, go tigers!.\"\n",
        "x = txt.capitalize()\n",
        "print (x)"
      ]
    },
    {
      "cell_type": "code",
      "source": [
        "b = \"Hello, OLIVER!\"\n",
        "print(b.upper())"
      ],
      "metadata": {
        "colab": {
          "base_uri": "https://localhost:8080/"
        },
        "id": "Dm6Da_Pjzu8w",
        "outputId": "ae0228c9-6d8b-4b96-c21e-7eda2ed25aa6"
      },
      "execution_count": 2,
      "outputs": [
        {
          "output_type": "stream",
          "name": "stdout",
          "text": [
            "HELLO, OLIVER!\n"
          ]
        }
      ]
    },
    {
      "cell_type": "code",
      "source": [
        "b = \" Hello, OLIVER! \"\n",
        "print(b.strip())"
      ],
      "metadata": {
        "colab": {
          "base_uri": "https://localhost:8080/"
        },
        "id": "C4Ojoc-6z4fK",
        "outputId": "82b37ec5-4489-401f-8a7d-98f055904fc0"
      },
      "execution_count": 4,
      "outputs": [
        {
          "output_type": "stream",
          "name": "stdout",
          "text": [
            "Hello, OLIVER!\n"
          ]
        }
      ]
    },
    {
      "cell_type": "code",
      "source": [
        "b = \" Hello, OLIVER! \"\n",
        "print(b.replace(\"l\", \"y\"))"
      ],
      "metadata": {
        "colab": {
          "base_uri": "https://localhost:8080/"
        },
        "id": "SqDLWo2j0FB5",
        "outputId": "fdeacc5c-a27a-4880-ac70-5029ebfa8633"
      },
      "execution_count": 8,
      "outputs": [
        {
          "output_type": "stream",
          "name": "stdout",
          "text": [
            " Heyyo, OLIVER! \n"
          ]
        }
      ]
    },
    {
      "cell_type": "code",
      "source": [
        "b = \" Hello, OLIVER! \"\n",
        "print(b.split(\",\"))"
      ],
      "metadata": {
        "colab": {
          "base_uri": "https://localhost:8080/"
        },
        "id": "D6-mPSjK0V2J",
        "outputId": "18357e49-4cd1-43aa-aa30-3b0c1342a572"
      },
      "execution_count": 9,
      "outputs": [
        {
          "output_type": "stream",
          "name": "stdout",
          "text": [
            "[' Hello', ' OLIVER! ']\n"
          ]
        }
      ]
    },
    {
      "cell_type": "code",
      "source": [
        "b = \" Hello, OLIVER! \"\n",
        "print(b.split(\"D\"))"
      ],
      "metadata": {
        "colab": {
          "base_uri": "https://localhost:8080/"
        },
        "id": "3wwIMKHR0a1a",
        "outputId": "b91b0bb2-a8d5-4b59-85f9-266bb56ec81f"
      },
      "execution_count": 10,
      "outputs": [
        {
          "output_type": "stream",
          "name": "stdout",
          "text": [
            "[' Hello, OLIVER! ']\n"
          ]
        }
      ]
    },
    {
      "cell_type": "code",
      "source": [
        "a = \"Hello\"\n",
        "b = \" , \"\n",
        "c = \"OLIver\"\n",
        "d = a + b + c\n",
        "print(d)"
      ],
      "metadata": {
        "colab": {
          "base_uri": "https://localhost:8080/"
        },
        "id": "Emsw8d7D0qnr",
        "outputId": "f3f4b21d-e584-47d8-a544-a4928db1cb6a"
      },
      "execution_count": 12,
      "outputs": [
        {
          "output_type": "stream",
          "name": "stdout",
          "text": [
            "Hello , OLIver\n"
          ]
        }
      ]
    },
    {
      "cell_type": "code",
      "source": [
        "age = 10\n",
        "txt = \"My name is OLIVER, and I am {}\"\n",
        "print(txt.format(age))"
      ],
      "metadata": {
        "colab": {
          "base_uri": "https://localhost:8080/"
        },
        "id": "gep3FuJd01eJ",
        "outputId": "892f8f09-80df-434b-9771-1f232c9a327f"
      },
      "execution_count": 13,
      "outputs": [
        {
          "output_type": "stream",
          "name": "stdout",
          "text": [
            "My name is OLIVER, and I am 10\n"
          ]
        }
      ]
    },
    {
      "cell_type": "code",
      "source": [
        "quantity = 1\n",
        "itemno = 234\n",
        "price = 56\n",
        "myorder = \"I want {0} pieces of item {1} for {2} dollars.\"\n",
        "print(myorder.format(quantity, itemno, price))"
      ],
      "metadata": {
        "colab": {
          "base_uri": "https://localhost:8080/"
        },
        "id": "a_EMPO1H0_wh",
        "outputId": "88783240-0d88-4f95-f3d6-0ac9d3e7c95e"
      },
      "execution_count": 21,
      "outputs": [
        {
          "output_type": "stream",
          "name": "stdout",
          "text": [
            "I want 1 pieces of item 234 for 56 dollars.\n"
          ]
        }
      ]
    },
    {
      "cell_type": "code",
      "source": [
        "txt = \"hello, go tigers!.\"\n",
        "x = txt.capitalize()\n",
        "print (x)"
      ],
      "metadata": {
        "colab": {
          "base_uri": "https://localhost:8080/"
        },
        "id": "1TNjbfqY1O3a",
        "outputId": "c84eebe8-5060-4968-c6b0-0fdce8b55300"
      },
      "execution_count": 20,
      "outputs": [
        {
          "output_type": "stream",
          "name": "stdout",
          "text": [
            "Hello, go tigers!.\n"
          ]
        }
      ]
    }
  ]
}